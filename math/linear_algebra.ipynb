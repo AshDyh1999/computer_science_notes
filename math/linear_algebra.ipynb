{
 "cells": [
  {
   "cell_type": "markdown",
   "metadata": {},
   "source": [
    "# Linear Algebra"
   ]
  },
  {
   "cell_type": "markdown",
   "metadata": {},
   "source": [
    "## Linear Transformation\n",
    "\n",
    "$A = \\begin{bmatrix}a & b \\\\ c & d\\end{bmatrix}$ is a linear transformation which moves $\\overrightarrow{i} = (1, 0)$ to $(a, b)$ and $\\overrightarrow{j} = (0, 1)$ to $(c, d)$\n",
    "\n",
    "$\\overrightarrow{v} = (x, y)$ with the linear transformation of $A$ is $A \\overrightarrow{v} = x \\begin{bmatrix}a \\\\b\\end{bmatrix} + y \\begin{bmatrix}c \\\\d\\end{bmatrix} = x \\overrightarrow{i} + y \\overrightarrow{j}$"
   ]
  },
  {
   "cell_type": "markdown",
   "metadata": {},
   "source": [
    "## Normal Matrix\n",
    "$M M^T = M^T M$\n",
    "\n",
    "+ A symmetrix matrix is a normal matrix\n",
    "\n",
    "### Spectral Decomposition\n",
    "For a normal matrix $M$, there exists an orthonormal basis $x_1, \\dots, x_k$, s.t., \n",
    "$$M = \\sum_i{\\lambda_i x_i x_i^T},$$\n",
    "where $x_i$ is an eigenvector of $M$ with eigenvalue $\\lambda$"
   ]
  },
  {
   "cell_type": "markdown",
   "metadata": {},
   "source": [
    "## Positive definite Matrix\n",
    "\n",
    "+ $z^T M z = \\mathbf{tr}(zz^T M) = <z z^T, M>$\n",
    "\n",
    "### Positive definite matrix\n",
    "#### Definition\n",
    "+ symmetric\n",
    "+ scalar $z^T M z$ is positive for every non-zero column vector $z$\n",
    "\n",
    "\n",
    "\n",
    "### Positive semidefinite matrix\n",
    "#### Definition\n",
    "+ $M$ is symmetric\n",
    "+ $M$ satisfies one of the following equivalent conditions: \n",
    "    1. Scalar $z^T M z$ is nonnegative for every non-zero column vector $z$ \n",
    "    2. All the eigenvalues are nonnegative. ?? Does the positive semidefinite matrix has $n$ real eigenvalues?\n",
    "    3. There exists a matrix $B$, s.t., $B^T B = M$\n",
    "    4. Gram matrix of vectors $v_1, \\dots, v_n$, $\\forall i, j; M_{i, j} = v_i^T v_j$\n",
    "    \n",
    "*Proof.*\n",
    "\n",
    "1 $\\implies$ 2: \n",
    "\n",
    "Suppose $\\lambda$ is the eigenvalue of $M$ and $v$ is its corresponding eigenvector $\\implies$ $M v = \\lambda v$ $\\implies$ $v^T M v = \\lambda v^T v$ and $v^T M v \\geq 0$ and $v^T v \\gt 0$  $\\implies$ $\\lambda \\geq 0$\n",
    "\n",
    "#### Properties\n",
    "+ $M$ is positive semidefinite matrix $\\iff$ all of its eigenvalues are nonnegative"
   ]
  },
  {
   "cell_type": "markdown",
   "metadata": {},
   "source": [
    "## Eigenvalues and Eigenvectors\n",
    "\n",
    "$$A v = \\lambda v,$$\n",
    "where $\\lambda$ is a scalar, $A \\in \\mathbf{R}^{n \\times n}$ and $v \\in \\mathbf{R}^n, v \\ne 0$.\n",
    "\n",
    "The above equation is equivalent to:\n",
    "$$(A - \\lambda I)v = 0,$$\n",
    "where $I$ is the $n$ by $n$ identity matrix and $0$ is the zero vector.\n",
    "\n",
    "The above equation has a nonzero solution $v$ if and only if the determinant of the matrix $A - \\lambda I$ is zero, i.e., $|A - \\lambda I| = 0$.\n",
    "\n",
    "\n",
    "$|A - \\lambda I| = (\\lambda - \\lambda_1) (\\lambda - \\lambda_2) \\dots (\\lambda - \\lambda_n)$\n",
    "\n",
    "+ One single eigen values can correspond to infinite number of eigenvectors, such as scaling linear transformation\n",
    "+ \n",
    "\n",
    "### Examples\n",
    "1. Consider the matrix:\n",
    "$\n",
    "A = \\begin{bmatrix} 2 & 1 \\\\ 1 & 2\\end{bmatrix}\n",
    "$\n",
    "2. Take the determinant of $|A - \\lambda I|$, the characteristic polynomial of $A$ is:\n",
    "$\n",
    "|A - \\lambda I| = \\begin{vmatrix}2 - \\lambda & 1 \\\\ 1 & 2 - \\lambda\\end{vmatrix} = \\lambda^2 - 4 \\lambda + 3 = (\\lambda - 1)(\\lambda - 3)\n",
    "$\n",
    "\n",
    "3. $\\lambda = 1$ and $\\lambda = 3$ are eigenvalues of $A$, and their corresponding eigenvectors are $v_{\\lambda=1}=\\begin{bmatrix}1\\\\-1\\end{bmatrix}$ and $v_{\\lambda=3}=\\begin{bmatrix}1\\\\1\\end{bmatrix}$"
   ]
  }
 ],
 "metadata": {
  "kernelspec": {
   "display_name": "Python 3",
   "language": "python",
   "name": "python3"
  },
  "language_info": {
   "codemirror_mode": {
    "name": "ipython",
    "version": 3
   },
   "file_extension": ".py",
   "mimetype": "text/x-python",
   "name": "python",
   "nbconvert_exporter": "python",
   "pygments_lexer": "ipython3",
   "version": "3.6.4"
  }
 },
 "nbformat": 4,
 "nbformat_minor": 2
}
