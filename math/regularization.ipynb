{
 "cells": [
  {
   "cell_type": "markdown",
   "metadata": {},
   "source": [
    "## Terms\n",
    "\n",
    "### explantory variables\n",
    "independent variables\n",
    "### Collinearity\n",
    "a linear association between two explantory variables: $X_{2i} = \\lambda_0 + \\lambda_1 X_{1i} $\n",
    "\n",
    "### Multicollinearity\n",
    "two or more explantory variables are highly linearly related: $\\lambda_0 + \\lambda_1 X_{1i} + \\lambda_2 X_{2i} + \\dots + \\lambda_k X_{ki} = 0$\n",
    "\n",
    "\n",
    "### degree of freedom\n",
    "The minimum number of independent coordinates that can specify the position of the system completely.\n",
    "\n",
    "See examples in the \"Of random vectors\" section from [Degrees of freedom(statistics)](https://en.wikipedia.org/wiki/Degrees_of_freedom_(statistics))\n",
    "\n",
    "### singular matrix\n",
    "A square matrix that does not have a matrix inverse\n",
    "\n"
   ]
  }
 ],
 "metadata": {
  "kernelspec": {
   "display_name": "Python 3",
   "language": "python",
   "name": "python3"
  },
  "language_info": {
   "codemirror_mode": {
    "name": "ipython",
    "version": 3
   },
   "file_extension": ".py",
   "mimetype": "text/x-python",
   "name": "python",
   "nbconvert_exporter": "python",
   "pygments_lexer": "ipython3",
   "version": "3.6.4"
  }
 },
 "nbformat": 4,
 "nbformat_minor": 2
}
